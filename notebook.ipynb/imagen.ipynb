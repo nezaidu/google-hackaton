{
 "cells": [
  {
   "cell_type": "code",
   "execution_count": 24,
   "metadata": {},
   "outputs": [
    {
     "name": "stdout",
     "output_type": "stream",
     "text": [
      "ImagesResponse(created=1714036525, data=[Image(b64_json=None, revised_prompt='Illustrate an adventurous young journalist with a quiff of blonde hair and a petite white canine, engaged in the exciting pursuit of solving mysteries in the bustling cityscape of Tokyo. The style should be defined by bold, unambiguous lines and vibrant hues, expressing the essence of European comic books from the mid-20th century. Incorporate elements of broad and exaggerated features, uncluttered scenes, and vivid colour-palettes, a nod to the simplicity and directness used in early comics.', url='https://oaidalleapiprodscus.blob.core.windows.net/private/org-p2mmh9H1Y7iCwS3cE78HSEmC/user-nJjTJvxJPFtJyFQykcr4NHIw/img-SUQgxw1VbOppDrR6HbiGgYzp.png?st=2024-04-25T08%3A15%3A25Z&se=2024-04-25T10%3A15%3A25Z&sp=r&sv=2021-08-06&sr=b&rscd=inline&rsct=image/png&skoid=6aaadede-4fb3-4698-a8f6-684d7786b067&sktid=a48cca56-e6da-484e-a814-9c849652bcb3&skt=2024-04-24T19%3A17%3A07Z&ske=2024-04-25T19%3A17%3A07Z&sks=b&skv=2021-08-06&sig=9ZOlquklwLhrjHZDmlVhkm73WZ/Cxka4/OjVpJ7MgR4%3D')])\n",
      "Generated Image URL: https://oaidalleapiprodscus.blob.core.windows.net/private/org-p2mmh9H1Y7iCwS3cE78HSEmC/user-nJjTJvxJPFtJyFQykcr4NHIw/img-SUQgxw1VbOppDrR6HbiGgYzp.png?st=2024-04-25T08%3A15%3A25Z&se=2024-04-25T10%3A15%3A25Z&sp=r&sv=2021-08-06&sr=b&rscd=inline&rsct=image/png&skoid=6aaadede-4fb3-4698-a8f6-684d7786b067&sktid=a48cca56-e6da-484e-a814-9c849652bcb3&skt=2024-04-24T19%3A17%3A07Z&ske=2024-04-25T19%3A17%3A07Z&sks=b&skv=2021-08-06&sig=9ZOlquklwLhrjHZDmlVhkm73WZ/Cxka4/OjVpJ7MgR4%3D\n"
     ]
    }
   ],
   "source": [
    "import openai\n",
    "\n",
    "client = openai.OpenAI(api_key=\"\")\n",
    "\n",
    "# Function to generate an image using OpenAI's DALL-E\n",
    "def generate_image(prompt):\n",
    "    # Replace 'your_api_key_here' with your actual OpenAI API key\n",
    "    \n",
    "\n",
    "    # Calling the DALL-E model to generate an image from the prompt\n",
    "    response = client.images.generate(\n",
    "      model=\"dall-e-3\",\n",
    "      prompt=\"Illustrate a young adventurous reporter with quiffed blonde hair and a small white dog, solving mysteries in an tokyo. The style should feature bold, clear lines and vibrant colors, reminiscent of mid-20th century European comic books. Use tintin style\",\n",
    "      size=\"1024x1024\",\n",
    "      quality=\"standard\",\n",
    "      n=1,\n",
    "    )\n",
    "\n",
    "    # Getting the URL of the generated image\n",
    "    print(response)\n",
    "    image_url = response.data[0].url\n",
    "    print(f\"Generated Image URL: {image_url}\")\n",
    "\n",
    "# # Example usage\n",
    "# if __name__ == \"__main__\":\n",
    "#     prompt = \"A serene landscape with a calm lake and a clear blue sky\"\n",
    "#     generate_image(prompt)\n",
    "\n",
    "generate_image(prompt)"
   ]
  }
 ],
 "metadata": {
  "kernelspec": {
   "display_name": "Python 3",
   "language": "python",
   "name": "python3"
  },
  "language_info": {
   "codemirror_mode": {
    "name": "ipython",
    "version": 3
   },
   "file_extension": ".py",
   "mimetype": "text/x-python",
   "name": "python",
   "nbconvert_exporter": "python",
   "pygments_lexer": "ipython3",
   "version": "3.9.6"
  }
 },
 "nbformat": 4,
 "nbformat_minor": 2
}
